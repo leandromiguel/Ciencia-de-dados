{
  "nbformat": 4,
  "nbformat_minor": 0,
  "metadata": {
    "colab": {
      "name": "questao5Lista1.ipynb",
      "provenance": [],
      "collapsed_sections": []
    },
    "kernelspec": {
      "name": "python3",
      "display_name": "Python 3"
    },
    "language_info": {
      "name": "python"
    }
  },
  "cells": [
    {
      "cell_type": "code",
      "metadata": {
        "id": "mKkDAGDsuzwg"
      },
      "source": [
        "import pandas as pd\n",
        "import numpy as np\n",
        "import matplotlib.pyplot as plt\n",
        "from scipy.stats import normaltest"
      ],
      "execution_count": null,
      "outputs": []
    },
    {
      "cell_type": "markdown",
      "metadata": {
        "id": "lQgln15Cu7UO"
      },
      "source": [
        "**5. Baseando-se no conjunto de dados criado na questão 4, crie uma\n",
        "função em Python que:**"
      ]
    },
    {
      "cell_type": "code",
      "metadata": {
        "id": "OgAoxlDkvMPb"
      },
      "source": [
        "dados = pd.read_csv('https://raw.githubusercontent.com/leandromiguel/Ciencia-de-dados/main/lista1/dados.csv')"
      ],
      "execution_count": null,
      "outputs": []
    },
    {
      "cell_type": "markdown",
      "metadata": {
        "id": "DyvA18AOvCq6"
      },
      "source": [
        "**a. Mostra o histograma de cada variável;**"
      ]
    },
    {
      "cell_type": "code",
      "metadata": {
        "colab": {
          "base_uri": "https://localhost:8080/",
          "height": 265
        },
        "id": "FAryiNZ4vEf9",
        "outputId": "927d619d-f56c-4343-ab50-db31469da21c"
      },
      "source": [
        "np.histogram(dados['V1'])\n",
        "plt.hist(dados['V1'])\n",
        "plt.show()"
      ],
      "execution_count": null,
      "outputs": [
        {
          "output_type": "display_data",
          "data": {
            "image/png": "[encoded data removed]",
            "text/plain": [
              "<Figure size 432x288 with 1 Axes>"
            ]
          },
          "metadata": {
            "needs_background": "light"
          }
        }
      ]
    },
    {
      "cell_type": "code",
      "metadata": {
        "colab": {
          "base_uri": "https://localhost:8080/",
          "height": 265
        },
        "id": "DCJdPqJAvaXk",
        "outputId": "a2325aad-f312-4b12-83ba-609a8ec67ca6"
      },
      "source": [
        "np.histogram(dados['V2'])\n",
        "plt.hist(dados['V2'])\n",
        "plt.show()"
      ],
      "execution_count": null,
      "outputs": [
        {
          "output_type": "display_data",
          "data": {
            "image/png": "[encoded data removed]",
            "text/plain": [
              "<Figure size 432x288 with 1 Axes>"
            ]
          },
          "metadata": {
            "needs_background": "light"
          }
        }
      ]
    },
    {
      "cell_type": "markdown",
      "metadata": {
        "id": "e8BW6pXivjYJ"
      },
      "source": [
        "**b. Verifica se as variáveis seguem uma distribuição Normal (use\n",
        "teste de hipótese)**"
      ]
    },
    {
      "cell_type": "code",
      "metadata": {
        "colab": {
          "base_uri": "https://localhost:8080/"
        },
        "id": "RcPJDBsnvk-f",
        "outputId": "2bda7eab-5a5c-4ebf-ea4d-e07e8bf0f293"
      },
      "source": [
        "significancia = 0.05\n",
        "stat_test, p_valor = normaltest(dados.V1)\n",
        "p_valor < significancia"
      ],
      "execution_count": null,
      "outputs": [
        {
          "output_type": "execute_result",
          "data": {
            "text/plain": [
              "True"
            ]
          },
          "metadata": {},
          "execution_count": 5
        }
      ]
    },
    {
      "cell_type": "code",
      "metadata": {
        "colab": {
          "base_uri": "https://localhost:8080/"
        },
        "id": "c0f46Z-evqUr",
        "outputId": "0ea59aa9-9aeb-4c14-e511-84320b069829"
      },
      "source": [
        "significancia = 0.05\n",
        "stat_test, p_valor = normaltest(dados.V2)\n",
        "p_valor < significancia"
      ],
      "execution_count": null,
      "outputs": [
        {
          "output_type": "execute_result",
          "data": {
            "text/plain": [
              "True"
            ]
          },
          "metadata": {},
          "execution_count": 6
        }
      ]
    }
  ]
}