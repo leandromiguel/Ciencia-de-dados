{
  "nbformat": 4,
  "nbformat_minor": 0,
  "metadata": {
    "colab": {
      "name": "questoes4Lista1.ipynb",
      "provenance": [],
      "collapsed_sections": []
    },
    "kernelspec": {
      "name": "python3",
      "display_name": "Python 3"
    },
    "language_info": {
      "name": "python"
    }
  },
  "cells": [
    {
      "cell_type": "code",
      "metadata": {
        "id": "p24IL8Y3v5Mv"
      },
      "source": [
        "import pandas as pd\n",
        "import numpy as np\n",
        "import matplotlib.pyplot as plt\n",
        "from scipy.stats import normaltest"
      ],
      "execution_count": null,
      "outputs": []
    },
    {
      "cell_type": "markdown",
      "metadata": {
        "id": "XOyjyzpwtz8F"
      },
      "source": [
        "**4. Crie um conjunto de dados com duas variáveis V1 e V2**"
      ]
    },
    {
      "cell_type": "code",
      "metadata": {
        "id": "uExsvf0H5l3b"
      },
      "source": [
        "dados = pd.read_csv('https://raw.githubusercontent.com/leandromiguel/Ciencia-de-dados/main/lista1/dados.csv')"
      ],
      "execution_count": null,
      "outputs": []
    },
    {
      "cell_type": "markdown",
      "metadata": {
        "id": "rBDHFltruebD"
      },
      "source": [
        "**a. Mediana de V1 < Média de V1**"
      ]
    },
    {
      "cell_type": "code",
      "metadata": {
        "colab": {
          "base_uri": "https://localhost:8080/"
        },
        "id": "3qHchF8c6_Ze",
        "outputId": "b8694f8a-09c1-4a1f-8b0e-34ea6f3972a2"
      },
      "source": [
        "medianaV1 = np.median(dados['V1'])\n",
        "medianaV1"
      ],
      "execution_count": null,
      "outputs": [
        {
          "output_type": "execute_result",
          "data": {
            "text/plain": [
              "36.0"
            ]
          },
          "metadata": {},
          "execution_count": 65
        }
      ]
    },
    {
      "cell_type": "code",
      "metadata": {
        "colab": {
          "base_uri": "https://localhost:8080/"
        },
        "id": "NAbf8ObL7f7L",
        "outputId": "a86f3b29-3c20-43ff-a26a-d46457d1e0e9"
      },
      "source": [
        "mediaV1 = np.mean(dados['V1'])\n",
        "mediaV1"
      ],
      "execution_count": null,
      "outputs": [
        {
          "output_type": "execute_result",
          "data": {
            "text/plain": [
              "40.6"
            ]
          },
          "metadata": {},
          "execution_count": 66
        }
      ]
    },
    {
      "cell_type": "markdown",
      "metadata": {
        "id": "2Qj7TCGsupQH"
      },
      "source": [
        "**b. Mediana de V2 > Média de V2**"
      ]
    },
    {
      "cell_type": "code",
      "metadata": {
        "colab": {
          "base_uri": "https://localhost:8080/"
        },
        "id": "kJl5513K72RS",
        "outputId": "b5485fc0-4987-4803-b2ce-5fbf4ed6f866"
      },
      "source": [
        "medianaV2 = np.median(dados['V2'])\n",
        "medianaV2"
      ],
      "execution_count": null,
      "outputs": [
        {
          "output_type": "execute_result",
          "data": {
            "text/plain": [
              "60.0"
            ]
          },
          "metadata": {},
          "execution_count": 67
        }
      ]
    },
    {
      "cell_type": "code",
      "metadata": {
        "colab": {
          "base_uri": "https://localhost:8080/"
        },
        "id": "t5VIAKaf8xhC",
        "outputId": "7d53c357-e8c5-4a33-fc64-f31ffddb8c50"
      },
      "source": [
        "mediaV2 = np.mean(dados['V2'])\n",
        "mediaV2"
      ],
      "execution_count": null,
      "outputs": [
        {
          "output_type": "execute_result",
          "data": {
            "text/plain": [
              "54.94"
            ]
          },
          "metadata": {},
          "execution_count": 68
        }
      ]
    }
  ]
}